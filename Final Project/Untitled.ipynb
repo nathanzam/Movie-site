{
 "cells": [
  {
   "cell_type": "code",
   "execution_count": 5,
   "metadata": {},
   "outputs": [
    {
     "name": "stdout",
     "output_type": "stream",
     "text": [
      "<Response [503]>\n"
     ]
    }
   ],
   "source": [
    "from bs4 import BeautifulSoup\n",
    "import requests\n",
    "import re\n",
    "data = requests.get(\"https://www.amazon.com/Coco-Junior-Novelization-Disney-Pixar/dp/0736438068/ref=sr_1_2?ie=UTF8&qid=1511833557&sr=8-2&keywords=coco\")\n",
    "data\n",
    "soup = BeautifulSoup(data.text, 'html.parser')\n",
    "# soup\n",
    "# reg = r'\\b\\w+\\b'\n",
    "# s = soup.findAll('h1')[0].text\n",
    "# new_data = re.findall(reg, s)\n",
    "# new_data\n",
    "print(data)"
   ]
  },
  {
   "cell_type": "code",
   "execution_count": null,
   "metadata": {
    "collapsed": true
   },
   "outputs": [],
   "source": []
  }
 ],
 "metadata": {
  "kernelspec": {
   "display_name": "Python 3",
   "language": "python",
   "name": "python3"
  },
  "language_info": {
   "codemirror_mode": {
    "name": "ipython",
    "version": 3
   },
   "file_extension": ".py",
   "mimetype": "text/x-python",
   "name": "python",
   "nbconvert_exporter": "python",
   "pygments_lexer": "ipython3",
   "version": "3.6.2"
  }
 },
 "nbformat": 4,
 "nbformat_minor": 2
}
